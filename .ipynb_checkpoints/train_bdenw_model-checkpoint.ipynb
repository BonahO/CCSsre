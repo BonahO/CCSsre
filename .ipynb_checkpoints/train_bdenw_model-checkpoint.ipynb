{
 "cells": [
  {
   "cell_type": "code",
   "execution_count": null,
   "metadata": {},
   "outputs": [],
   "source": [
    "import warnings\n",
    "warnings.filterwarnings(\"ignore\", category=FutureWarning) \n",
    "import numpy as np\n",
    "import os\n",
    "from tensorflow.keras import backend as K\n",
    "from tensorflow.keras.optimizers import Adam\n",
    "import h5py\n",
    "import glob\n",
    "import random\n",
    "import time\n",
    "import tensorflow as tf\n",
    "import datetime\n"
   ]
  },
  {
   "cell_type": "markdown",
   "metadata": {},
   "source": [
    "# Create model"
   ]
  },
  {
   "cell_type": "code",
   "execution_count": null,
   "metadata": {},
   "outputs": [],
   "source": [
    "from temporal_3d_general import *\n",
    "\n",
    "def vae_loss(x, t_decoded):\n",
    "    '''Total loss for the plain UAE'''\n",
    "    return K.mean(reconstruction_loss(x, t_decoded))\n",
    "\n",
    "def reconstruction_loss(x, t_decoded):\n",
    "    '''Reconstruction loss for the plain UAE'''\n",
    "    return K.sum((K.batch_flatten(x) - K.batch_flatten(t_decoded)) ** 2, axis=-1)\n",
    "\n",
    "input_shape=(96, 200, 24 ,3)\n",
    "vae_model = create_vae(input_shape)\n",
    "vae_model.summary()\n",
    "output_dir = 'saved_models/'"
   ]
  },
  {
   "cell_type": "markdown",
   "metadata": {},
   "source": [
    "# Load data set"
   ]
  },
  {
   "cell_type": "code",
   "execution_count": null,
   "metadata": {},
   "outputs": [],
   "source": [
    "def load_data(name):\n",
    "    hf_r = h5py.File(f'/data/cees/gegewen/CCSNet_publish_dataset/{name}.hdf5', 'r')\n",
    "    variable = np.array(hf_r.get(name))\n",
    "    hf_r.close()\n",
    "    return variable\n",
    "\n",
    "def create_x(train_input, train_BPR, train_BXMF):\n",
    "    data_x_BPR = (train_BPR - 100)/(565 - 100)\n",
    "    data_x_temp = np.repeat(train_input[:,:,:,-4,:][:,:,:,np.newaxis,:], 24, axis=-2)\n",
    "    return np.concatenate([data_x_temp, data_x_BPR, train_BXMF/0.038], axis=-1)"
   ]
  },
  {
   "cell_type": "code",
   "execution_count": null,
   "metadata": {},
   "outputs": [],
   "source": [
    "train_x = create_x(load_data('train_x'), load_data('train_y_BPR'), load_data('train_y_BXMF'))\n",
    "train_y = load_data('train_y_BDENW')\n",
    "train_y[load_data('train_y_SG')>0.99] = 0 # Remove unphysical points\n",
    "train_y[load_data('train_y_BXMF')==0] = 0 # Remove unphysical points\n",
    "\n",
    "test_x = create_x(load_data('test_x'), load_data('test_y_BPR'), load_data('test_y_BXMF'))\n",
    "test_y = load_data('test_y_BDENW')\n",
    "test_y[load_data('test_y_SG')>0.99] = 0 # Remove unphysical points\n",
    "test_y[load_data('test_y_BXMF')==0] = 0 # Remove unphysical points\n",
    "\n",
    "train_y[train_y == 0] = 700 # Clipping for normalization\n",
    "train_y = (train_y - 700) / (1100 - 700) # Normalization\n",
    "test_y[test_y == 0] = 700 # Clipping for normalization\n",
    "test_y = (test_y - 700) / (1100 - 700) # Normalization"
   ]
  },
  {
   "cell_type": "code",
   "execution_count": null,
   "metadata": {},
   "outputs": [],
   "source": [
    "print(train_x.shape)\n",
    "print(train_y.shape)\n",
    "print(test_x.shape)\n",
    "print(test_y.shape)"
   ]
  },
  {
   "cell_type": "code",
   "execution_count": null,
   "metadata": {},
   "outputs": [],
   "source": [
    "# Random shuffle\n",
    "np.random.seed(0)\n",
    "train_nr = train_x.shape[0]\n",
    "train_shuffle_index = np.random.choice(train_nr, train_nr, replace=False)\n",
    "print(train_shuffle_index.shape)\n",
    "\n",
    "test_nr = test_x.shape[0]\n",
    "test_shuffle_index = np.random.choice(test_nr, test_nr, replace=False)\n",
    "print(test_shuffle_index.shape)\n",
    "\n",
    "train_x = train_x[train_shuffle_index, ...]\n",
    "train_y = train_y[train_shuffle_index, ...]\n",
    "test_x = test_x[test_shuffle_index, ...]\n",
    "test_y = test_y[test_shuffle_index, ...]\n",
    "\n",
    "print('train_x shape is ', train_x.shape)\n",
    "print('train_y shape is ', train_y.shape)\n",
    "print('test_x shape is ', test_x.shape)\n",
    "print('test_y shape is ', test_y.shape)"
   ]
  },
  {
   "cell_type": "markdown",
   "metadata": {},
   "source": [
    "# Training\n",
    "\n",
    "*Note: gradually reduce learning rate from 1e-4 to 1e-7 as you train*"
   ]
  },
  {
   "cell_type": "code",
   "execution_count": null,
   "metadata": {},
   "outputs": [],
   "source": [
    "train_nr = train_x.shape[0]\n",
    "batch_size = 8\n",
    "num_batch = int(train_nr/batch_size)\n",
    "test_nr = 8\n",
    "e_start = 0\n",
    "epoch = 1000\n",
    "learning_rate = 1e-4\n",
    "\n",
    "opt = Adam(lr=learning_rate)\n",
    "\n",
    "train_target = K.placeholder(shape=(batch_size, 96, 200, 24 ,1))\n",
    "test_target = K.placeholder(shape=(test_nr, 96, 200, 24 ,1))\n",
    "\n",
    "rec_loss = vae_loss(vae_model.output, train_target)\n",
    "vae_model.compile(loss=vae_loss, optimizer=opt)\n",
    "\n",
    "total_loss = rec_loss\n",
    "\n",
    "updates = opt.get_updates(total_loss, vae_model.trainable_weights)\n",
    "\n",
    "iterate = K.function(vae_model.inputs + [train_target], [rec_loss], updates=updates)\n",
    "\n",
    "eval_rec_loss = vae_loss(vae_model.output, test_target)\n",
    "\n",
    "evaluate = K.function(vae_model.inputs + [test_target], [eval_rec_loss])\n",
    "\n",
    "model_string = 'bdenw'"
   ]
  },
  {
   "cell_type": "code",
   "execution_count": null,
   "metadata": {},
   "outputs": [],
   "source": [
    "for e in range(e_start, e_start + epoch):\n",
    "    for ib in range(num_batch):\n",
    "        ind0 = ib * batch_size        \n",
    "        x_batch = train_x[ind0:ind0+batch_size, ...]\n",
    "        y_batch = train_y[ind0:ind0+batch_size, ...]\n",
    "        rec_loss_val = iterate([x_batch] + [y_batch])\n",
    "        \n",
    "        if ib % 100 == 0:\n",
    "            print('Epoch %d/%d, Batch %d/%d, Rec Loss %f' % (e+1, epoch, ib+1, num_batch, rec_loss_val[0]))\n",
    "            \n",
    "    eval_rec_loss_val = evaluate([test_x[:4,...]] + [test_y[:4,...]])\n",
    "    print('Epoch %d/%d, Train Rec loss %f, Eval Rec loss %f' % (e + 1, epoch, rec_loss_val[0], eval_rec_loss_val[0]))\n",
    "    \n",
    "    if (e+1) % 5 == 0:\n",
    "        vae_model.save_weights(output_dir + model_string + '_%dtrain_lr%f_ep%d.h5' % (train_nr, learning_rate, (e + 1)))\n",
    "\n",
    "vae_model.save_weights(output_dir + model_string + '_%dtrain_lr%f_ep%d.h5' % (train_nr, learning_rate, epoch + e_start))"
   ]
  }
 ],
 "metadata": {
  "kernelspec": {
   "display_name": "Python (3.6)",
   "language": "python",
   "name": "venv"
  },
  "language_info": {
   "codemirror_mode": {
    "name": "ipython",
    "version": 3
   },
   "file_extension": ".py",
   "mimetype": "text/x-python",
   "name": "python",
   "nbconvert_exporter": "python",
   "pygments_lexer": "ipython3",
   "version": "3.6.8"
  }
 },
 "nbformat": 4,
 "nbformat_minor": 4
}
